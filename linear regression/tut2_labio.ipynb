{
 "cells": [
  {
   "cell_type": "code",
   "execution_count": 26,
   "id": "8a915cfc",
   "metadata": {},
   "outputs": [],
   "source": [
    "import numpy as np\n",
    "import pandas as pd\n",
    "import matplotlib.pyplot as plt"
   ]
  },
  {
   "cell_type": "code",
   "execution_count": 31,
   "id": "c0f0bf42",
   "metadata": {},
   "outputs": [],
   "source": [
    "df = pd.read_csv('challenge-1-beijing.csv')\n",
    "df.columns = ['Bus', 'Office building', 'Hospital', 'Shopping mall', 'Subway', 'School', 'Community name', 'Construction time', 'Room type', 'Floor',\n",
    "'Price per square meter', 'Area']"
   ]
  },
  {
   "cell_type": "markdown",
   "id": "3c2660a5",
   "metadata": {},
   "source": []
  },
  {
   "cell_type": "code",
   "execution_count": null,
   "id": "f1d074e0",
   "metadata": {},
   "outputs": [],
   "source": [
    "# pd.concat([features, target], axis=1).head()"
   ]
  },
  {
   "cell_type": "code",
   "execution_count": null,
   "id": "ab79bb39",
   "metadata": {},
   "outputs": [],
   "source": []
  }
 ],
 "metadata": {
  "kernelspec": {
   "display_name": "venv",
   "language": "python",
   "name": "python3"
  },
  "language_info": {
   "codemirror_mode": {
    "name": "ipython",
    "version": 3
   },
   "file_extension": ".py",
   "mimetype": "text/x-python",
   "name": "python",
   "nbconvert_exporter": "python",
   "pygments_lexer": "ipython3",
   "version": "3.12.5"
  }
 },
 "nbformat": 4,
 "nbformat_minor": 5
}
